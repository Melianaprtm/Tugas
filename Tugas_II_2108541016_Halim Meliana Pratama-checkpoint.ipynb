{
 "cells": [
  {
   "cell_type": "code",
   "execution_count": 1,
   "id": "b00f29db",
   "metadata": {},
   "outputs": [
    {
     "name": "stdout",
     "output_type": "stream",
     "text": [
      "['leci', 'mangga', 'apel', 'pisang', 'nanas']\n"
     ]
    }
   ],
   "source": [
    "buah = ['leci','mangga','apel','pisang','nanas']\n",
    "print(buah)"
   ]
  },
  {
   "cell_type": "code",
   "execution_count": 2,
   "id": "0cc481ba",
   "metadata": {},
   "outputs": [
    {
     "name": "stdout",
     "output_type": "stream",
     "text": [
      "leci\n"
     ]
    }
   ],
   "source": [
    "print(buah[0])"
   ]
  },
  {
   "cell_type": "code",
   "execution_count": 3,
   "id": "fc8ba345",
   "metadata": {},
   "outputs": [
    {
     "name": "stdout",
     "output_type": "stream",
     "text": [
      "pisang\n"
     ]
    }
   ],
   "source": [
    "print(buah[3])"
   ]
  },
  {
   "cell_type": "code",
   "execution_count": 4,
   "id": "368a36e5",
   "metadata": {},
   "outputs": [
    {
     "name": "stdout",
     "output_type": "stream",
     "text": [
      "nanas\n"
     ]
    }
   ],
   "source": [
    "print(buah[-1])"
   ]
  },
  {
   "cell_type": "code",
   "execution_count": 5,
   "id": "2e44f254",
   "metadata": {},
   "outputs": [
    {
     "name": "stdout",
     "output_type": "stream",
     "text": [
      "pisang\n"
     ]
    }
   ],
   "source": [
    "print(buah[-2])"
   ]
  },
  {
   "cell_type": "code",
   "execution_count": 6,
   "id": "ac1e8f48",
   "metadata": {},
   "outputs": [
    {
     "name": "stdout",
     "output_type": "stream",
     "text": [
      "['leci', 'jeruk', 'apel', 'pisang', 'nanas']\n"
     ]
    }
   ],
   "source": [
    "buah[1] = 'jeruk'\n",
    "print(buah)"
   ]
  },
  {
   "cell_type": "code",
   "execution_count": 7,
   "id": "b6cc88c6",
   "metadata": {},
   "outputs": [
    {
     "name": "stdout",
     "output_type": "stream",
     "text": [
      "['leci', 'jeruk', 'apel', 'pisang']\n"
     ]
    }
   ],
   "source": [
    "print(buah[0:4])"
   ]
  },
  {
   "cell_type": "code",
   "execution_count": 8,
   "id": "fb5f7503",
   "metadata": {},
   "outputs": [
    {
     "name": "stdout",
     "output_type": "stream",
     "text": [
      "['leci', 'jeruk', 'apel', 'pisang', 'nanas']\n"
     ]
    }
   ],
   "source": [
    "#tidak merubah list\n",
    "print(buah)"
   ]
  },
  {
   "cell_type": "code",
   "execution_count": 9,
   "id": "5ab3f79f",
   "metadata": {},
   "outputs": [
    {
     "name": "stdout",
     "output_type": "stream",
     "text": [
      "['meli', 'cece', 'halim', 'ana']\n"
     ]
    }
   ],
   "source": [
    "nama = ['meli','cece','halim']\n",
    "nama.append('ana')\n",
    "print(nama)"
   ]
  },
  {
   "cell_type": "code",
   "execution_count": 10,
   "id": "35a85e5c",
   "metadata": {},
   "outputs": [
    {
     "name": "stdout",
     "output_type": "stream",
     "text": [
      "['meli', 'tama', 'cece', 'halim', 'ana']\n"
     ]
    }
   ],
   "source": [
    "nama.insert(1,'tama')\n",
    "print(nama)"
   ]
  },
  {
   "cell_type": "code",
   "execution_count": 12,
   "id": "208db931",
   "metadata": {},
   "outputs": [
    {
     "name": "stdout",
     "output_type": "stream",
     "text": [
      "['meli', 'tama', 'cece', 'halim']\n"
     ]
    }
   ],
   "source": [
    "nama.remove('ana')\n",
    "print(nama)"
   ]
  },
  {
   "cell_type": "code",
   "execution_count": 13,
   "id": "f2a9b0d3",
   "metadata": {},
   "outputs": [
    {
     "name": "stdout",
     "output_type": "stream",
     "text": [
      "False\n"
     ]
    }
   ],
   "source": [
    "print('ana' in nama)"
   ]
  },
  {
   "cell_type": "code",
   "execution_count": 14,
   "id": "93bf2f85",
   "metadata": {},
   "outputs": [
    {
     "name": "stdout",
     "output_type": "stream",
     "text": [
      "True\n"
     ]
    }
   ],
   "source": [
    "print('cece' in nama)"
   ]
  },
  {
   "cell_type": "code",
   "execution_count": 15,
   "id": "12b428f4",
   "metadata": {},
   "outputs": [
    {
     "name": "stdout",
     "output_type": "stream",
     "text": [
      "4\n"
     ]
    }
   ],
   "source": [
    "print(len(nama))"
   ]
  },
  {
   "cell_type": "code",
   "execution_count": 20,
   "id": "aee187d4",
   "metadata": {},
   "outputs": [
    {
     "name": "stdout",
     "output_type": "stream",
     "text": [
      "leci\n",
      "mangga\n",
      "apel\n",
      "pisang\n",
      "nanas\n"
     ]
    }
   ],
   "source": [
    "buah = ['leci','mangga','apel','pisang','nanas']\n",
    "for jenis in buah :\n",
    "    print(jenis)"
   ]
  },
  {
   "cell_type": "code",
   "execution_count": 21,
   "id": "add9064d",
   "metadata": {},
   "outputs": [
    {
     "name": "stdout",
     "output_type": "stream",
     "text": [
      "leci\n",
      "apel\n",
      "nanas\n"
     ]
    }
   ],
   "source": [
    "i = 0\n",
    "while i < len(buah) :\n",
    "    print(buah[i])\n",
    "    i+=2"
   ]
  },
  {
   "cell_type": "code",
   "execution_count": 23,
   "id": "2538de89",
   "metadata": {},
   "outputs": [
    {
     "name": "stdout",
     "output_type": "stream",
     "text": [
      "range(0, 8)\n"
     ]
    }
   ],
   "source": [
    "angka = range(8)\n",
    "print(angka)"
   ]
  },
  {
   "cell_type": "code",
   "execution_count": 24,
   "id": "81e8c2eb",
   "metadata": {},
   "outputs": [
    {
     "name": "stdout",
     "output_type": "stream",
     "text": [
      "0\n",
      "1\n",
      "2\n",
      "3\n",
      "4\n",
      "5\n",
      "6\n",
      "7\n"
     ]
    }
   ],
   "source": [
    "for isi in angka :\n",
    "    print(isi)"
   ]
  },
  {
   "cell_type": "code",
   "execution_count": 29,
   "id": "03006e0d",
   "metadata": {},
   "outputs": [
    {
     "name": "stdout",
     "output_type": "stream",
     "text": [
      "3\n",
      "4\n",
      "5\n",
      "6\n",
      "7\n",
      "8\n"
     ]
    }
   ],
   "source": [
    "for isi in range(3,9):\n",
    "    print(isi)"
   ]
  },
  {
   "cell_type": "code",
   "execution_count": 30,
   "id": "b799f648",
   "metadata": {},
   "outputs": [
    {
     "name": "stdout",
     "output_type": "stream",
     "text": [
      "0\n",
      "4\n",
      "8\n"
     ]
    }
   ],
   "source": [
    "for isi in range(0,11,4) :\n",
    "    print(isi)"
   ]
  },
  {
   "cell_type": "code",
   "execution_count": 32,
   "id": "f7f5ced0",
   "metadata": {},
   "outputs": [
    {
     "name": "stdout",
     "output_type": "stream",
     "text": [
      "2\n",
      "3\n",
      "4\n"
     ]
    }
   ],
   "source": [
    "data = [1,2,3,4,3,2,1]\n",
    "terbesar = data[0]\n",
    "for i in range(len(data)):\n",
    "    if data[i] > terbesar:\n",
    "        terbesar = data[i]\n",
    "        print(terbesar)"
   ]
  },
  {
   "cell_type": "code",
   "execution_count": 33,
   "id": "8d81a511",
   "metadata": {},
   "outputs": [
    {
     "name": "stdout",
     "output_type": "stream",
     "text": [
      "2\n",
      "3\n",
      "4\n"
     ]
    }
   ],
   "source": [
    "data = [1,2,3,4,3,2,1]\n",
    "terbesar = data[0]\n",
    "for angka in data:\n",
    "    if angka > terbesar:\n",
    "        terbesar = angka\n",
    "        print(terbesar)"
   ]
  },
  {
   "cell_type": "code",
   "execution_count": 34,
   "id": "7e235dc2",
   "metadata": {},
   "outputs": [
    {
     "name": "stdout",
     "output_type": "stream",
     "text": [
      "[1]\n",
      "[1, 3]\n",
      "[1, 3, 5]\n",
      "[1, 3, 5, 4]\n",
      "[1, 3, 5, 4, 2]\n",
      "[1, 3, 5, 4, 2, 6]\n",
      "[1, 3, 5, 4, 2, 6, 7]\n"
     ]
    }
   ],
   "source": [
    "angka = [1,3,5,4,2,6,7,5]\n",
    "angka_unik = []\n",
    "for anggota in angka:\n",
    "    if anggota not in angka_unik:\n",
    "        angka_unik.append(anggota)\n",
    "        print(angka_unik)"
   ]
  },
  {
   "cell_type": "code",
   "execution_count": 36,
   "id": "255dcc62",
   "metadata": {},
   "outputs": [
    {
     "name": "stdout",
     "output_type": "stream",
     "text": [
      "[[1, 2, 3], [4, 5, 6], [7, 8, 9], [10, 11, 12]]\n"
     ]
    }
   ],
   "source": [
    "matrik = [\n",
    "    [1,2,3],\n",
    "    [4,5,6],\n",
    "    [7,8,9],\n",
    "    [10,11,12]\n",
    "]\n",
    "print(matrik)"
   ]
  },
  {
   "cell_type": "code",
   "execution_count": 37,
   "id": "d4a3dd64",
   "metadata": {},
   "outputs": [
    {
     "data": {
      "text/plain": [
       "[7, 8, 9]"
      ]
     },
     "execution_count": 37,
     "metadata": {},
     "output_type": "execute_result"
    }
   ],
   "source": [
    "matrik[2]"
   ]
  },
  {
   "cell_type": "code",
   "execution_count": 39,
   "id": "69eeca99",
   "metadata": {},
   "outputs": [
    {
     "data": {
      "text/plain": [
       "6"
      ]
     },
     "execution_count": 39,
     "metadata": {},
     "output_type": "execute_result"
    }
   ],
   "source": [
    "matrik[1][2]"
   ]
  },
  {
   "cell_type": "code",
   "execution_count": 40,
   "id": "0285cafb",
   "metadata": {},
   "outputs": [
    {
     "name": "stdout",
     "output_type": "stream",
     "text": [
      "90\n"
     ]
    }
   ],
   "source": [
    "matrik[1][2] = 90\n",
    "print(matrik[1][2])"
   ]
  },
  {
   "cell_type": "code",
   "execution_count": 41,
   "id": "33b57fca",
   "metadata": {},
   "outputs": [
    {
     "data": {
      "text/plain": [
       "[[1, 2, 3], [4, 5, 90], [7, 8, 9], [10, 11, 12]]"
      ]
     },
     "execution_count": 41,
     "metadata": {},
     "output_type": "execute_result"
    }
   ],
   "source": [
    "matrik"
   ]
  },
  {
   "cell_type": "code",
   "execution_count": 42,
   "id": "434602d6",
   "metadata": {},
   "outputs": [
    {
     "name": "stdout",
     "output_type": "stream",
     "text": [
      "[1, 2, 3]\n",
      "1\n",
      "2\n",
      "3\n",
      "[4, 5, 90]\n",
      "4\n",
      "5\n",
      "90\n",
      "[7, 8, 9]\n",
      "7\n",
      "8\n",
      "9\n",
      "[10, 11, 12]\n",
      "10\n",
      "11\n",
      "12\n"
     ]
    }
   ],
   "source": [
    "for baris in matrik:\n",
    "    print(baris)\n",
    "    for kolom in baris:\n",
    "        print(kolom)"
   ]
  },
  {
   "cell_type": "code",
   "execution_count": 43,
   "id": "22eacfb4",
   "metadata": {},
   "outputs": [],
   "source": [
    "angka = (1,2,3,3,4)"
   ]
  },
  {
   "cell_type": "code",
   "execution_count": 44,
   "id": "ad15abe3",
   "metadata": {},
   "outputs": [
    {
     "name": "stdout",
     "output_type": "stream",
     "text": [
      "1\n"
     ]
    }
   ],
   "source": [
    "print(angka[0])"
   ]
  },
  {
   "cell_type": "code",
   "execution_count": 45,
   "id": "e5397bc4",
   "metadata": {},
   "outputs": [
    {
     "name": "stdout",
     "output_type": "stream",
     "text": [
      "(2, 3, 3)\n"
     ]
    }
   ],
   "source": [
    "print(angka[1:4])"
   ]
  },
  {
   "cell_type": "code",
   "execution_count": 46,
   "id": "41de52df",
   "metadata": {},
   "outputs": [
    {
     "name": "stdout",
     "output_type": "stream",
     "text": [
      "2\n",
      "3\n",
      "3\n"
     ]
    }
   ],
   "source": [
    "for isi in angka[1:4]:\n",
    "    print(isi)"
   ]
  },
  {
   "cell_type": "code",
   "execution_count": null,
   "id": "67e47d95",
   "metadata": {},
   "outputs": [],
   "source": [
    "angka[0] = 9"
   ]
  },
  {
   "cell_type": "code",
   "execution_count": 52,
   "id": "e84f402f",
   "metadata": {},
   "outputs": [
    {
     "ename": "AttributeError",
     "evalue": "'tuple' object has no attribute 'append'",
     "output_type": "error",
     "traceback": [
      "\u001b[1;31m---------------------------------------------------------------------------\u001b[0m",
      "\u001b[1;31mAttributeError\u001b[0m                            Traceback (most recent call last)",
      "\u001b[1;32m~\\AppData\\Local\\Temp/ipykernel_2440/3060516282.py\u001b[0m in \u001b[0;36m<module>\u001b[1;34m\u001b[0m\n\u001b[1;32m----> 1\u001b[1;33m \u001b[0mangka\u001b[0m\u001b[1;33m.\u001b[0m\u001b[0mappend\u001b[0m\u001b[1;33m(\u001b[0m\u001b[1;36m9\u001b[0m\u001b[1;33m)\u001b[0m\u001b[1;33m\u001b[0m\u001b[1;33m\u001b[0m\u001b[0m\n\u001b[0m",
      "\u001b[1;31mAttributeError\u001b[0m: 'tuple' object has no attribute 'append'"
     ]
    }
   ],
   "source": [
    "angka.append(9)"
   ]
  },
  {
   "cell_type": "code",
   "execution_count": 53,
   "id": "1525d597",
   "metadata": {},
   "outputs": [
    {
     "ename": "AttributeError",
     "evalue": "'tuple' object has no attribute 'remove'",
     "output_type": "error",
     "traceback": [
      "\u001b[1;31m---------------------------------------------------------------------------\u001b[0m",
      "\u001b[1;31mAttributeError\u001b[0m                            Traceback (most recent call last)",
      "\u001b[1;32m~\\AppData\\Local\\Temp/ipykernel_2440/2298564591.py\u001b[0m in \u001b[0;36m<module>\u001b[1;34m\u001b[0m\n\u001b[1;32m----> 1\u001b[1;33m \u001b[0mangka\u001b[0m\u001b[1;33m.\u001b[0m\u001b[0mremove\u001b[0m\u001b[1;33m(\u001b[0m\u001b[1;36m5\u001b[0m\u001b[1;33m)\u001b[0m\u001b[1;33m\u001b[0m\u001b[1;33m\u001b[0m\u001b[0m\n\u001b[0m",
      "\u001b[1;31mAttributeError\u001b[0m: 'tuple' object has no attribute 'remove'"
     ]
    }
   ],
   "source": [
    "angka.remove(5)"
   ]
  },
  {
   "cell_type": "code",
   "execution_count": 54,
   "id": "c6833f49",
   "metadata": {},
   "outputs": [
    {
     "data": {
      "text/plain": [
       "1"
      ]
     },
     "execution_count": 54,
     "metadata": {},
     "output_type": "execute_result"
    }
   ],
   "source": [
    "angka.count(1)"
   ]
  },
  {
   "cell_type": "code",
   "execution_count": 55,
   "id": "b1d61b07",
   "metadata": {},
   "outputs": [
    {
     "data": {
      "text/plain": [
       "2"
      ]
     },
     "execution_count": 55,
     "metadata": {},
     "output_type": "execute_result"
    }
   ],
   "source": [
    "angka.index(3)"
   ]
  },
  {
   "cell_type": "code",
   "execution_count": 61,
   "id": "31c8630b",
   "metadata": {},
   "outputs": [
    {
     "ename": "SyntaxError",
     "evalue": "invalid syntax (Temp/ipykernel_2440/1794672767.py, line 3)",
     "output_type": "error",
     "traceback": [
      "\u001b[1;36m  File \u001b[1;32m\"C:\\Users\\MELI\\AppData\\Local\\Temp/ipykernel_2440/1794672767.py\"\u001b[1;36m, line \u001b[1;32m3\u001b[0m\n\u001b[1;33m    \"umur\" : 18\u001b[0m\n\u001b[1;37m           ^\u001b[0m\n\u001b[1;31mSyntaxError\u001b[0m\u001b[1;31m:\u001b[0m invalid syntax\n"
     ]
    }
   ],
   "source": [
    "data_orang = {\n",
    "    \"nama\" : \"Halim Meliana Pratama\"\n",
    "    \"umur\" : 18\n",
    "    \"apakah_mahasiswa\" : true\n",
    "}"
   ]
  },
  {
   "cell_type": "code",
   "execution_count": null,
   "id": "2ede72ba",
   "metadata": {},
   "outputs": [],
   "source": [
    "print(data_orang['nama'])"
   ]
  },
  {
   "cell_type": "code",
   "execution_count": null,
   "id": "d4a93b4a",
   "metadata": {},
   "outputs": [],
   "source": [
    "print(data_orang['Nama'])"
   ]
  },
  {
   "cell_type": "code",
   "execution_count": null,
   "id": "d3515758",
   "metadata": {},
   "outputs": [],
   "source": [
    "print(data_orang.get('nama'))"
   ]
  },
  {
   "cell_type": "code",
   "execution_count": null,
   "id": "8d9d5549",
   "metadata": {},
   "outputs": [],
   "source": [
    "print(data_orang.get('Nama'))"
   ]
  },
  {
   "cell_type": "code",
   "execution_count": null,
   "id": "5d133fce",
   "metadata": {},
   "outputs": [],
   "source": [
    "print(data_orang.get('tanggal_lahir'))"
   ]
  },
  {
   "cell_type": "code",
   "execution_count": null,
   "id": "41ffd5d9",
   "metadata": {},
   "outputs": [],
   "source": [
    "print(data_orang.get('tanggal_lahir','13-05-20003'))"
   ]
  },
  {
   "cell_type": "code",
   "execution_count": null,
   "id": "4a83f813",
   "metadata": {},
   "outputs": [],
   "source": [
    "print(data_orang)"
   ]
  },
  {
   "cell_type": "code",
   "execution_count": null,
   "id": "05aef0a2",
   "metadata": {},
   "outputs": [],
   "source": [
    "print(data_orang[\"tanggal_lahir\"])"
   ]
  },
  {
   "cell_type": "code",
   "execution_count": null,
   "id": "a16afc8e",
   "metadata": {},
   "outputs": [],
   "source": [
    "data_orang['HP'] - '089654735647'"
   ]
  },
  {
   "cell_type": "code",
   "execution_count": null,
   "id": "33488c5e",
   "metadata": {},
   "outputs": [],
   "source": [
    "print(data_orang[\"HP\"])"
   ]
  },
  {
   "cell_type": "code",
   "execution_count": null,
   "id": "b4b9acc1",
   "metadata": {},
   "outputs": [],
   "source": [
    "print(data_orang)"
   ]
  },
  {
   "cell_type": "code",
   "execution_count": null,
   "id": "5b73a8f9",
   "metadata": {},
   "outputs": [],
   "source": [
    "angka = {\n",
    "    \"0\" : \"nol\",\n",
    "    \"1\" : \"satu\",\n",
    "    \"2\" : \"dua\",\n",
    "    \"3\" : \"tiga\",\n",
    "    \"4\" : \"empat\",\n",
    "    \"5\" : \"lima\",\n",
    "    \"6\" : \"enam\",\n",
    "    \"7\" : \"tujuh\",\n",
    "    \"8\" : \"delapan\",\n",
    "    \"9\" : \"sembilan\"\n",
    "}"
   ]
  },
  {
   "cell_type": "code",
   "execution_count": 2,
   "id": "a24ad41a",
   "metadata": {},
   "outputs": [
    {
     "name": "stdout",
     "output_type": "stream",
     "text": [
      "Masukkan nomor HP kamu 0895421952929\n"
     ]
    },
    {
     "ename": "NameError",
     "evalue": "name 'angka' is not defined",
     "output_type": "error",
     "traceback": [
      "\u001b[1;31m---------------------------------------------------------------------------\u001b[0m",
      "\u001b[1;31mNameError\u001b[0m                                 Traceback (most recent call last)",
      "\u001b[1;32m~\\AppData\\Local\\Temp/ipykernel_9492/256373853.py\u001b[0m in \u001b[0;36m<module>\u001b[1;34m\u001b[0m\n\u001b[0;32m      2\u001b[0m \u001b[0mnomor_angka\u001b[0m \u001b[1;33m=\u001b[0m \u001b[1;34m\" \"\u001b[0m\u001b[1;33m\u001b[0m\u001b[1;33m\u001b[0m\u001b[0m\n\u001b[0;32m      3\u001b[0m \u001b[1;32mfor\u001b[0m \u001b[0misi\u001b[0m \u001b[1;32min\u001b[0m \u001b[0mnomor_HP\u001b[0m\u001b[1;33m:\u001b[0m\u001b[1;33m\u001b[0m\u001b[1;33m\u001b[0m\u001b[0m\n\u001b[1;32m----> 4\u001b[1;33m     \u001b[0mnomor_angka\u001b[0m \u001b[1;33m+=\u001b[0m \u001b[0mangka\u001b[0m\u001b[1;33m.\u001b[0m\u001b[0mget\u001b[0m\u001b[1;33m(\u001b[0m\u001b[0misi\u001b[0m\u001b[1;33m)\u001b[0m \u001b[1;33m+\u001b[0m \u001b[1;34m\" \"\u001b[0m\u001b[1;33m\u001b[0m\u001b[1;33m\u001b[0m\u001b[0m\n\u001b[0m\u001b[0;32m      5\u001b[0m \u001b[0mprint\u001b[0m\u001b[1;33m(\u001b[0m\u001b[0mnomor_angka\u001b[0m\u001b[1;33m)\u001b[0m\u001b[1;33m\u001b[0m\u001b[1;33m\u001b[0m\u001b[0m\n",
      "\u001b[1;31mNameError\u001b[0m: name 'angka' is not defined"
     ]
    }
   ],
   "source": [
    "nomor_HP = input(\"Masukkan nomor HP kamu \")\n",
    "nomor_angka = \" \"\n",
    "for isi in nomor_HP:\n",
    "    nomor_angka += angka.get(isi) + \" \"\n",
    "print(nomor_angka)"
   ]
  },
  {
   "cell_type": "code",
   "execution_count": 3,
   "id": "0ab84d89",
   "metadata": {},
   "outputs": [
    {
     "name": "stdout",
     "output_type": "stream",
     "text": [
      "Masukkan nomor HP kamu 0895421952929\n",
      " nol delapan sembilan lima empat dua satu sembilan lima dua sembilan dua sembilan \n"
     ]
    }
   ],
   "source": [
    "angka = {\n",
    "    \"0\" : \"nol\",\n",
    "    \"1\" : \"satu\",\n",
    "    \"2\" : \"dua\",\n",
    "    \"3\" : \"tiga\",\n",
    "    \"4\" : \"empat\",\n",
    "    \"5\" : \"lima\",\n",
    "    \"6\" : \"enam\",\n",
    "    \"7\" : \"tujuh\",\n",
    "    \"8\" : \"delapan\",\n",
    "    \"9\" : \"sembilan\"\n",
    "}\n",
    "nomor_HP = input(\"Masukkan nomor HP kamu \")\n",
    "nomor_angka = \" \"\n",
    "for isi in nomor_HP:\n",
    "    nomor_angka += angka.get(isi) + \" \"\n",
    "print(nomor_angka)"
   ]
  },
  {
   "cell_type": "code",
   "execution_count": null,
   "id": "3c4ce796",
   "metadata": {},
   "outputs": [],
   "source": [
    "def full_nama(first_name,Last_name):\n",
    "    print(f'Nama lengkapnya adalah {nama_depan}{nama_belakang}')"
   ]
  },
  {
   "cell_type": "code",
   "execution_count": 4,
   "id": "160fa312",
   "metadata": {},
   "outputs": [
    {
     "name": "stdout",
     "output_type": "stream",
     "text": [
      "Nama depan kamu adalah Halim Meliana\n",
      "Nama belakang kamu adalah Pratama\n",
      "Nama lengkapnya adalah Halim MelianaPratama\n"
     ]
    }
   ],
   "source": [
    "nama_depan = input('Nama depan kamu adalah ')\n",
    "nama_belakang = input('Nama belakang kamu adalah ')\n",
    "print(f'Nama lengkapnya adalah {nama_depan}{nama_belakang}')"
   ]
  },
  {
   "cell_type": "code",
   "execution_count": null,
   "id": "8f6ec1ef",
   "metadata": {},
   "outputs": [],
   "source": [
    "def waktu_sampai(jarak,kecepatan):\n",
    "    waktu = jarak/kecepatan\n",
    "    print(waktu)"
   ]
  },
  {
   "cell_type": "code",
   "execution_count": null,
   "id": "e075aec3",
   "metadata": {},
   "outputs": [],
   "source": [
    "def waktu_stempuh(jarak,kecepatan):\n",
    "    waktu = jarak/kecepatan\n",
    "    return waktu"
   ]
  },
  {
   "cell_type": "code",
   "execution_count": null,
   "id": "855ce1a3",
   "metadata": {},
   "outputs": [],
   "source": [
    "waktu_sampai (30,40)"
   ]
  },
  {
   "cell_type": "code",
   "execution_count": null,
   "id": "92f48347",
   "metadata": {},
   "outputs": [],
   "source": [
    "waktu_tempuh (30,40)"
   ]
  },
  {
   "cell_type": "code",
   "execution_count": null,
   "id": "3248c4cb",
   "metadata": {},
   "outputs": [],
   "source": [
    "a = waktu_sampai (50,30)\n",
    "print(a)"
   ]
  },
  {
   "cell_type": "code",
   "execution_count": null,
   "id": "f64532a3",
   "metadata": {},
   "outputs": [],
   "source": [
    "b = waktu_tempuh (50,30)\n",
    "print(b)"
   ]
  },
  {
   "cell_type": "code",
   "execution_count": null,
   "id": "1835025d",
   "metadata": {},
   "outputs": [],
   "source": [
    "import numpy as np"
   ]
  },
  {
   "cell_type": "code",
   "execution_count": null,
   "id": "38e9102e",
   "metadata": {},
   "outputs": [],
   "source": [
    "def luas_segitiga(alas,tinggi):\n",
    "    luas = (1/2)*alas*tinggi\n",
    "    return luas\n",
    "def luas_lingkaran(jari_jari):\n",
    "    luas = np.pi*(jari_jari**2)\n",
    "    return luas\n",
    "def luas_persegi(sisi):\n",
    "    luas = sisi**2\n",
    "    return luas\n",
    "def luas_persegi_panjang(panjang,lebar):\n",
    "    luas = panjang*lebar\n",
    "    return luas"
   ]
  },
  {
   "cell_type": "code",
   "execution_count": null,
   "id": "37ab5f31",
   "metadata": {},
   "outputs": [],
   "source": [
    "jenis_bidang = input('Ketik jenis bidangnya ')\n",
    "if jenis_bidang.upper() == 'SEGITIGA':\n",
    "    alas = float(input('Berapa panjang alasnya? '))\n",
    "    tinggi = float(input('Berapa tingginya? '))\n",
    "    luas = luas_segitiga(alas,tinggi)\n",
    "    print(f'Luas {jenis_bidang} adalah {luas}')\n",
    "elif jenis_bidang.upper() == 'LINGKARAN':\n",
    "    jari_jari = float(input('Berapa panjang jari-jarinya? '))\n",
    "    luas = luas_lingkaran(jari_jari)\n",
    "    print(f'Luas {jenis_bidang} adalah {luas}')\n",
    "elif jenis_bidang.upper() == 'PERSEGI':\n",
    "    sisi = float(input('Berapa panjang sisinya? '))\n",
    "    luas = luas_persegi(sisi)\n",
    "    print(f'Luas {jenis_bidang} adalah {luas}')\n",
    "elif jenis_bidang.upper() == 'PERSEGI PANJANG':\n",
    "    panjang = float(input('Berapa panjangnya? '))\n",
    "    lebar = float(input('Berapa lebarnya? '))\n",
    "    luas = luas_persegi_panjang(panjang,lebar)\n",
    "    print(f'Luas {jenis_bidang} adalah {luas}')\n",
    "else:\n",
    "    print(f'maaf bidang {jenis_bidang} yang kamu masukkan tidak ada.' )\n",
    "    print('pilihannya hanya ada SEGITIGA, LINGKARAN, PERSEGI, dan PERSEGI PANJANG. ')\n",
    "    print('terimakasih')\n"
   ]
  }
 ],
 "metadata": {
  "kernelspec": {
   "display_name": "Python 3 (ipykernel)",
   "language": "python",
   "name": "python3"
  },
  "language_info": {
   "codemirror_mode": {
    "name": "ipython",
    "version": 3
   },
   "file_extension": ".py",
   "mimetype": "text/x-python",
   "name": "python",
   "nbconvert_exporter": "python",
   "pygments_lexer": "ipython3",
   "version": "3.9.7"
  }
 },
 "nbformat": 4,
 "nbformat_minor": 5
}
