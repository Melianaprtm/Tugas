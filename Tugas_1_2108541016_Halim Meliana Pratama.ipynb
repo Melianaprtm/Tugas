{
 "cells": [
  {
   "cell_type": "code",
   "execution_count": 1,
   "id": "6b8a66da",
   "metadata": {},
   "outputs": [
    {
     "name": "stdout",
     "output_type": "stream",
     "text": [
      "Ini Kelas Algoritma\n"
     ]
    }
   ],
   "source": [
    "print('Ini Kelas Algoritma')"
   ]
  },
  {
   "cell_type": "code",
   "execution_count": 2,
   "id": "8a22291a",
   "metadata": {},
   "outputs": [
    {
     "name": "stdout",
     "output_type": "stream",
     "text": [
      "Ini Kelas Algoritma\n"
     ]
    }
   ],
   "source": [
    "print(\"Ini Kelas Algoritma\")"
   ]
  },
  {
   "cell_type": "code",
   "execution_count": 3,
   "id": "5d346d05",
   "metadata": {},
   "outputs": [
    {
     "name": "stdout",
     "output_type": "stream",
     "text": [
      "I don't understand what are you saying\n"
     ]
    }
   ],
   "source": [
    "print(\"I don't understand what are you saying\")"
   ]
  },
  {
   "cell_type": "code",
   "execution_count": 4,
   "id": "f9be782c",
   "metadata": {},
   "outputs": [
    {
     "ename": "SyntaxError",
     "evalue": "invalid syntax (Temp/ipykernel_5572/3159777967.py, line 1)",
     "output_type": "error",
     "traceback": [
      "\u001b[1;36m  File \u001b[1;32m\"C:\\Users\\MELI\\AppData\\Local\\Temp/ipykernel_5572/3159777967.py\"\u001b[1;36m, line \u001b[1;32m1\u001b[0m\n\u001b[1;33m    print('I don't understand what are you saying')\u001b[0m\n\u001b[1;37m                 ^\u001b[0m\n\u001b[1;31mSyntaxError\u001b[0m\u001b[1;31m:\u001b[0m invalid syntax\n"
     ]
    }
   ],
   "source": [
    "print('I don't understand what are you saying')"
   ]
  },
  {
   "cell_type": "code",
   "execution_count": null,
   "id": "96534ab9",
   "metadata": {},
   "outputs": [],
   "source": [
    "print('He is such a \"GENIUS\"')"
   ]
  },
  {
   "cell_type": "code",
   "execution_count": null,
   "id": "7d2d8072",
   "metadata": {},
   "outputs": [],
   "source": [
    "print(\"He is such a \"GENIUS\"\")"
   ]
  },
  {
   "cell_type": "code",
   "execution_count": null,
   "id": "28cca46b",
   "metadata": {},
   "outputs": [],
   "source": [
    "mahasiswa = 42\n",
    "uang_di_dompet = 100000\n",
    "print(mahasiswa)\n",
    "print(uang_di_dompet)\n",
    "print(mahasiswa*uang_di_dompet)"
   ]
  },
  {
   "cell_type": "code",
   "execution_count": null,
   "id": "890bec96",
   "metadata": {},
   "outputs": [],
   "source": [
    "nama_depan = 'Halim '\n",
    "nama_tengah ='Meliana '\n",
    "nama_belakang = 'Pratama'\n",
    "print(nama_depan + nama_tengah + nama_belakang)"
   ]
  },
  {
   "cell_type": "code",
   "execution_count": null,
   "id": "a2689b0d",
   "metadata": {},
   "outputs": [],
   "source": [
    "nama = input(\"Siapakah nama anda?\")\n",
    "kegiatan = input('Apakah kegiatan anda sekarang, ' + nama +\"? \")\n",
    "print(\"Semangat \"+ kegiatan +\" nya yah, \" + nama + \"!\")"
   ]
  },
  {
   "cell_type": "code",
   "execution_count": null,
   "id": "df143049",
   "metadata": {},
   "outputs": [],
   "source": [
    "uang_di_dompet = input(\"Berapakah jumlah uang di dompet anda? \")\n",
    "uang_di_tabungan = input(\"Berapakah jumlah uang anda di tabungan? \")\n",
    "print(\"Total uang anda adalah Rp \" + uang_di_dompet +uang_di_tabungan)"
   ]
  },
  {
   "cell_type": "code",
   "execution_count": null,
   "id": "e90e5063",
   "metadata": {},
   "outputs": [],
   "source": [
    "ang_di_dompet = input(\"Berapakah jumlah uang di dompet anda? \")\n",
    "uang_di_tabungan = input(\"Berapakah jumlah uang anda di tabungan? \")\n",
    "total_uang = int(uang_di_dompet) + int(uang_di_tabungan)\n",
    "print(\"Total uang anda adalah Rp \" + str(total_uang))"
   ]
  },
  {
   "cell_type": "code",
   "execution_count": 5,
   "id": "c7517d83",
   "metadata": {},
   "outputs": [
    {
     "name": "stdout",
     "output_type": "stream",
     "text": [
      "masukkan bilangan satu: 4\n",
      "masukkan bilangan kedua: 3\n",
      "jumlah kedua bilangan adalah: 7.0\n"
     ]
    }
   ],
   "source": [
    "bilangan_satu = input('masukkan bilangan satu: ')\n",
    "bilangan_kedua = input('masukkan bilangan kedua: ')\n",
    "jumlah = float(bilangan_satu) + float(bilangan_kedua)\n",
    "print('jumlah kedua bilangan adalah: '+ str(jumlah))"
   ]
  },
  {
   "cell_type": "code",
   "execution_count": 6,
   "id": "f31a55a4",
   "metadata": {},
   "outputs": [
    {
     "name": "stdout",
     "output_type": "stream",
     "text": [
      "meliana adalah seorang mahasiswi di Universitas Udayana\n"
     ]
    }
   ],
   "source": [
    "nama = 'meliana'\n",
    "status = 'mahasiswi'\n",
    "institusi = 'Universitas Udayana'\n",
    "print(nama+ ' adalah seorang ' + status + ' di ' + institusi)"
   ]
  },
  {
   "cell_type": "code",
   "execution_count": 7,
   "id": "450af260",
   "metadata": {},
   "outputs": [
    {
     "name": "stdout",
     "output_type": "stream",
     "text": [
      "meliana adalah seorang mahasiswi di Universitas Udayana\n"
     ]
    }
   ],
   "source": [
    "print(f'{nama} adalah seorang {status} di {institusi}')"
   ]
  },
  {
   "cell_type": "code",
   "execution_count": 8,
   "id": "448d269c",
   "metadata": {},
   "outputs": [
    {
     "name": "stdout",
     "output_type": "stream",
     "text": [
      "meliana adalah seorang mahasiswi di Universitas Udayana.\n"
     ]
    }
   ],
   "source": [
    "print(f\"{nama} adalah seorang {status} di {institusi}.\")"
   ]
  },
  {
   "cell_type": "code",
   "execution_count": 9,
   "id": "0d2cba36",
   "metadata": {},
   "outputs": [],
   "source": [
    "kelas = 'ini kelas algoritma' "
   ]
  },
  {
   "cell_type": "code",
   "execution_count": 10,
   "id": "60d23d78",
   "metadata": {},
   "outputs": [
    {
     "name": "stdout",
     "output_type": "stream",
     "text": [
      "ini\n"
     ]
    }
   ],
   "source": [
    "print(kelas[0:3])"
   ]
  },
  {
   "cell_type": "code",
   "execution_count": 11,
   "id": "7f3a498c",
   "metadata": {},
   "outputs": [
    {
     "name": "stdout",
     "output_type": "stream",
     "text": [
      "ini kelas algoritm\n"
     ]
    }
   ],
   "source": [
    "print(kelas[0:-1])"
   ]
  },
  {
   "cell_type": "code",
   "execution_count": 12,
   "id": "34983f1d",
   "metadata": {},
   "outputs": [
    {
     "name": "stdout",
     "output_type": "stream",
     "text": [
      "elas algoritm\n"
     ]
    }
   ],
   "source": [
    "print(kelas[5:-1])"
   ]
  },
  {
   "cell_type": "code",
   "execution_count": 13,
   "id": "0a4b5fce",
   "metadata": {},
   "outputs": [
    {
     "name": "stdout",
     "output_type": "stream",
     "text": [
      "i kelas algoritma\n"
     ]
    }
   ],
   "source": [
    "print(kelas[2:])"
   ]
  },
  {
   "cell_type": "code",
   "execution_count": 14,
   "id": "7ee10ce0",
   "metadata": {},
   "outputs": [
    {
     "name": "stdout",
     "output_type": "stream",
     "text": [
      "ini kelas algoritma\n"
     ]
    }
   ],
   "source": [
    "print(kelas[:])"
   ]
  },
  {
   "cell_type": "code",
   "execution_count": 15,
   "id": "460ef7d7",
   "metadata": {},
   "outputs": [
    {
     "name": "stdout",
     "output_type": "stream",
     "text": [
      "ni kelas algoritma\n"
     ]
    }
   ],
   "source": [
    "print(kelas[1:])"
   ]
  },
  {
   "cell_type": "code",
   "execution_count": 16,
   "id": "5ac79e0b",
   "metadata": {},
   "outputs": [
    {
     "name": "stdout",
     "output_type": "stream",
     "text": [
      "ini kelas algori\n"
     ]
    }
   ],
   "source": [
    "print(kelas[:-3])"
   ]
  },
  {
   "cell_type": "code",
   "execution_count": 17,
   "id": "8d2f97d8",
   "metadata": {},
   "outputs": [],
   "source": [
    "judul = 'Semangat Untuk Berkarya'"
   ]
  },
  {
   "cell_type": "code",
   "execution_count": 18,
   "id": "2b84ed88",
   "metadata": {},
   "outputs": [
    {
     "name": "stdout",
     "output_type": "stream",
     "text": [
      "23\n"
     ]
    }
   ],
   "source": [
    "print(len(judul))"
   ]
  },
  {
   "cell_type": "code",
   "execution_count": 19,
   "id": "9521231a",
   "metadata": {},
   "outputs": [
    {
     "data": {
      "text/plain": [
       "'SEMANGAT UNTUK BERKARYA'"
      ]
     },
     "execution_count": 19,
     "metadata": {},
     "output_type": "execute_result"
    }
   ],
   "source": [
    "judul.upper()"
   ]
  },
  {
   "cell_type": "code",
   "execution_count": 20,
   "id": "c454a7c2",
   "metadata": {},
   "outputs": [
    {
     "data": {
      "text/plain": [
       "'semangat untuk berkarya'"
      ]
     },
     "execution_count": 20,
     "metadata": {},
     "output_type": "execute_result"
    }
   ],
   "source": [
    "judul.lower()"
   ]
  },
  {
   "cell_type": "code",
   "execution_count": 22,
   "id": "9b2a2ad0",
   "metadata": {},
   "outputs": [
    {
     "data": {
      "text/plain": [
       "15"
      ]
     },
     "execution_count": 22,
     "metadata": {},
     "output_type": "execute_result"
    }
   ],
   "source": [
    "judul.find('Berkarya')"
   ]
  },
  {
   "cell_type": "code",
   "execution_count": 23,
   "id": "2a1a114e",
   "metadata": {},
   "outputs": [
    {
     "data": {
      "text/plain": [
       "-1"
      ]
     },
     "execution_count": 23,
     "metadata": {},
     "output_type": "execute_result"
    }
   ],
   "source": [
    "judul.find('semangat')"
   ]
  },
  {
   "cell_type": "code",
   "execution_count": 25,
   "id": "62e03921",
   "metadata": {},
   "outputs": [
    {
     "data": {
      "text/plain": [
       "'Berjasa Untuk Berkarya'"
      ]
     },
     "execution_count": 25,
     "metadata": {},
     "output_type": "execute_result"
    }
   ],
   "source": [
    "judul.replace('Semangat', 'Berjasa')"
   ]
  },
  {
   "cell_type": "code",
   "execution_count": 27,
   "id": "68a833a6",
   "metadata": {},
   "outputs": [
    {
     "data": {
      "text/plain": [
       "'Semangat Untuk Berkarya'"
      ]
     },
     "execution_count": 27,
     "metadata": {},
     "output_type": "execute_result"
    }
   ],
   "source": [
    "judul.replace('semangat', 'Berjasa')"
   ]
  },
  {
   "cell_type": "code",
   "execution_count": 29,
   "id": "9e874c47",
   "metadata": {},
   "outputs": [
    {
     "name": "stdout",
     "output_type": "stream",
     "text": [
      "False\n"
     ]
    }
   ],
   "source": [
    "print('semangat'in judul)"
   ]
  },
  {
   "cell_type": "code",
   "execution_count": 30,
   "id": "96623e5f",
   "metadata": {},
   "outputs": [
    {
     "name": "stdout",
     "output_type": "stream",
     "text": [
      "True\n"
     ]
    }
   ],
   "source": [
    "print('Semangat'in judul)"
   ]
  },
  {
   "cell_type": "code",
   "execution_count": 32,
   "id": "c6e68fa4",
   "metadata": {},
   "outputs": [
    {
     "name": "stdout",
     "output_type": "stream",
     "text": [
      "7\n",
      "-3\n",
      "10\n",
      "0.5\n",
      "0\n",
      "5\n",
      "1024\n",
      "8\n",
      "4\n",
      "20\n"
     ]
    }
   ],
   "source": [
    "print(2+5)\n",
    "print(2-5)\n",
    "print(2*5)\n",
    "print(3/6)\n",
    "print(3//6)\n",
    "print(5%6)\n",
    "print(4**5)\n",
    "x=5\n",
    "x+=3\n",
    "print(x)\n",
    "x-=4\n",
    "print(x)\n",
    "x*=5\n",
    "print(x)"
   ]
  },
  {
   "cell_type": "code",
   "execution_count": 34,
   "id": "6edcfec7",
   "metadata": {},
   "outputs": [
    {
     "name": "stdout",
     "output_type": "stream",
     "text": [
      "True\n",
      "False\n",
      "True\n",
      "True\n",
      "True\n",
      "True\n"
     ]
    }
   ],
   "source": [
    "x = 5>4\n",
    "print(x)\n",
    "x = 4<3\n",
    "print(x)\n",
    "x = 5 >= 4\n",
    "print(x)\n",
    "x = 4 <= 5\n",
    "print(x)\n",
    "x = 4 == 4\n",
    "print(x)\n",
    "x = 6 != 5\n",
    "print(x)"
   ]
  },
  {
   "cell_type": "code",
   "execution_count": 36,
   "id": "825dcd12",
   "metadata": {},
   "outputs": [
    {
     "name": "stdout",
     "output_type": "stream",
     "text": [
      "True\n"
     ]
    }
   ],
   "source": [
    "buah_leci = 7\n",
    "buah_jeruk = 10\n",
    "print(buah_leci > 5 and buah_jeruk < 11)"
   ]
  },
  {
   "cell_type": "code",
   "execution_count": 37,
   "id": "75aa7301",
   "metadata": {},
   "outputs": [
    {
     "name": "stdout",
     "output_type": "stream",
     "text": [
      "True\n"
     ]
    }
   ],
   "source": [
    "print(buah_leci < 5 or buah_jeruk < 11)"
   ]
  },
  {
   "cell_type": "code",
   "execution_count": 39,
   "id": "90523c16",
   "metadata": {},
   "outputs": [
    {
     "name": "stdout",
     "output_type": "stream",
     "text": [
      "False\n"
     ]
    }
   ],
   "source": [
    "print(buah_leci < 5 or buah_jeruk > 11)"
   ]
  },
  {
   "cell_type": "code",
   "execution_count": 41,
   "id": "e38d9c12",
   "metadata": {},
   "outputs": [
    {
     "name": "stdout",
     "output_type": "stream",
     "text": [
      "True\n"
     ]
    }
   ],
   "source": [
    "print( not buah_leci < 8 or buah_jeruk < 11)"
   ]
  },
  {
   "cell_type": "code",
   "execution_count": 45,
   "id": "b6662b91",
   "metadata": {},
   "outputs": [
    {
     "name": "stdout",
     "output_type": "stream",
     "text": [
      "nilai kamu adalah 90\n",
      "kamu mendapat nilai A\n",
      "nice work, congrats!!\n"
     ]
    }
   ],
   "source": [
    "nilai = float(input('nilai kamu adalah '))\n",
    "if nilai >=90 :\n",
    "    print('kamu mendapat nilai A')\n",
    "    print('nice work, congrats!!')\n",
    "if nilai <80 and nilai >=70 :\n",
    "    print('kamu mendapatkan nilai B')\n",
    "    print('keep the spirit, improve your performance again')\n",
    "if nilai >=60 and nilai <70 :\n",
    "    print('kamu mendapatkan nilai C')\n",
    "    print('next time should be better')\n",
    "if nilai >=50 and nilai <60 :\n",
    "    print('kamu mendapatkan nilai D')\n",
    "    print('try again next year')\n",
    "if nilai <50 :\n",
    "    print('kamu mendapatkan nilai E')\n",
    "    print('see you next year')"
   ]
  },
  {
   "cell_type": "code",
   "execution_count": 47,
   "id": "7b776767",
   "metadata": {},
   "outputs": [
    {
     "name": "stdout",
     "output_type": "stream",
     "text": [
      "berapakah tinggi kamu? 155\n",
      "tingginya dalam cm atau inci? cm\n",
      "tinggi kamu adalah 61.023655000000005 inci\n"
     ]
    }
   ],
   "source": [
    "tinggi = float(input('berapakah tinggi kamu? '))\n",
    "cm_atau_inci = input('tingginya dalam cm atau inci? ')\n",
    "\n",
    "if cm_atau_inci.upper() == 'CM':\n",
    "    tinggi = tinggi*0.393701\n",
    "    print('tinggi kamu adalah ' + str(tinggi) + ' inci')\n",
    "elif cm_atau_inci.upper() == 'INCI':\n",
    "    tinggi = tinggi*0.393701\n",
    "    print(f'tinggi kamu adalah {tinggi} cm')"
   ]
  },
  {
   "cell_type": "code",
   "execution_count": 49,
   "id": "001d70e0",
   "metadata": {},
   "outputs": [
    {
     "name": "stdout",
     "output_type": "stream",
     "text": [
      "angka 4 masih dibawah 6\n",
      "angka 5 masih dibawah 6\n"
     ]
    }
   ],
   "source": [
    "a = 4\n",
    "while a < 6:\n",
    "    print('angka ' + str(a) + ' masih dibawah 6')\n",
    "    a +=1"
   ]
  },
  {
   "cell_type": "code",
   "execution_count": 50,
   "id": "b4bea968",
   "metadata": {},
   "outputs": [
    {
     "name": "stdout",
     "output_type": "stream",
     "text": [
      "\n",
      "*\n",
      "**\n",
      "***\n",
      "****\n",
      "*****\n"
     ]
    }
   ],
   "source": [
    "a = 0\n",
    "while a < 6:\n",
    "    print(a * '*')\n",
    "    a +=1"
   ]
  },
  {
   "cell_type": "code",
   "execution_count": null,
   "id": "fa3697cd",
   "metadata": {},
   "outputs": [],
   "source": []
  }
 ],
 "metadata": {
  "kernelspec": {
   "display_name": "Python 3 (ipykernel)",
   "language": "python",
   "name": "python3"
  },
  "language_info": {
   "codemirror_mode": {
    "name": "ipython",
    "version": 3
   },
   "file_extension": ".py",
   "mimetype": "text/x-python",
   "name": "python",
   "nbconvert_exporter": "python",
   "pygments_lexer": "ipython3",
   "version": "3.9.7"
  }
 },
 "nbformat": 4,
 "nbformat_minor": 5
}
